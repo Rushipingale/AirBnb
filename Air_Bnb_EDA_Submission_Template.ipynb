{
  "nbformat": 4,
  "nbformat_minor": 0,
  "metadata": {
    "colab": {
      "private_outputs": true,
      "provenance": []
    },
    "kernelspec": {
      "name": "python3",
      "display_name": "Python 3"
    },
    "language_info": {
      "name": "python"
    }
  },
  "cells": [
    {
      "cell_type": "markdown",
      "source": [
        "# **Project Name**    - Air Bnb\n",
        "\n"
      ],
      "metadata": {
        "id": "vncDsAP0Gaoa"
      }
    },
    {
      "cell_type": "markdown",
      "source": [
        "##### **Project Type**    - EDA/Regression/Classification/Unsupervised\n",
        "##### **Contribution**    - Individual/Team\n",
        "##### **Team Member 1 -** Rushikesh Pingale\n",
        "##### **Team Member 2 -** Sandesh Salunke\n",
        "##### **Team Member 3 -** Irfan Momin\n",
        "##### **Team Member 4 -** Sushil Ghodvinde"
      ],
      "metadata": {
        "id": "beRrZCGUAJYm"
      }
    },
    {
      "cell_type": "markdown",
      "source": [
        "# **Project Summary -**"
      ],
      "metadata": {
        "id": "FJNUwmbgGyua"
      }
    },
    {
      "cell_type": "markdown",
      "source": [
        "Since 2008, guests and hosts have used Airbnb to expand on traveling possibilities and present a more unique, personalized way of experiencing the world. Today, Airbnb became one of a kind service that is used and recognized by the whole world. Data analysis on millions of listings provided through Airbnb is a crucial factor for the company. These millions of listings generate a lot of data - data that can be analyzed and used for security, business decisions, understanding of customers' and providers' (hosts) behavior and performance on the platform, guiding marketing initiatives, implementation of innovative additional services and much more."
      ],
      "metadata": {
        "id": "F6v_1wHtG2nS"
      }
    },
    {
      "cell_type": "markdown",
      "source": [
        "# **GitHub Link -**"
      ],
      "metadata": {
        "id": "w6K7xa23Elo4"
      }
    },
    {
      "cell_type": "markdown",
      "source": [
        "Provide your GitHub Link here."
      ],
      "metadata": {
        "id": "h1o69JH3Eqqn"
      }
    },
    {
      "cell_type": "markdown",
      "source": [
        "# **Problem Statement**\n"
      ],
      "metadata": {
        "id": "yQaldy8SH6Dl"
      }
    },
    {
      "cell_type": "markdown",
      "source": [
        "**Write Problem Statement Here.**"
      ],
      "metadata": {
        "id": "DpeJGUA3kjGy"
      }
    },
    {
      "cell_type": "markdown",
      "source": [
        "#### **Define Your Business Objective?**"
      ],
      "metadata": {
        "id": "PH-0ReGfmX4f"
      }
    },
    {
      "cell_type": "markdown",
      "source": [
        "We believe that Airbnb can be more than a marketplace that merely connects guests to Hosts. There goal are to provide the ultimate service for guests, anticipating their needs and going above and beyond—just like a good Host."
      ],
      "metadata": {
        "id": "PhDvGCAqmjP1"
      }
    },
    {
      "cell_type": "markdown",
      "source": [
        "# **General Guidelines** : -  "
      ],
      "metadata": {
        "id": "mDgbUHAGgjLW"
      }
    },
    {
      "cell_type": "markdown",
      "source": [
        "1.   Well-structured, formatted, and commented code is required. \n",
        "2.   Exception Handling, Production Grade Code & Deployment Ready Code will be a plus. Those students will be awarded some additional credits. \n",
        "     \n",
        "     The additional credits will have advantages over other students during Star Student selection.\n",
        "       \n",
        "             [ Note: - Deployment Ready Code is defined as, the whole .ipynb notebook should be executable in one go\n",
        "                       without a single error logged. ]\n",
        "\n",
        "3.   Each and every logic should have proper comments.\n",
        "4. You may add as many number of charts you want. Make Sure for each and every chart the following format should be answered.\n",
        "        \n",
        "\n",
        "```\n",
        "# Chart visualization code\n",
        "```\n",
        "            \n",
        "\n",
        "*   Why did you pick the specific chart?\n",
        "*   What is/are the insight(s) found from the chart?\n",
        "* Will the gained insights help creating a positive business impact? \n",
        "Are there any insights that lead to negative growth? Justify with specific reason.\n",
        "\n",
        "5. You have to create at least 20 logical & meaningful charts having important insights.\n",
        "\n",
        "\n",
        "[ Hints : - Do the Vizualization in  a structured way while following \"UBM\" Rule. \n",
        "\n",
        "U - Univariate Analysis,\n",
        "\n",
        "B - Bivariate Analysis (Numerical - Categorical, Numerical - Numerical, Categorical - Categorical)\n",
        "\n",
        "M - Multivariate Analysis\n",
        " ]\n",
        "\n",
        "\n",
        "\n"
      ],
      "metadata": {
        "id": "ZrxVaUj-hHfC"
      }
    },
    {
      "cell_type": "markdown",
      "source": [
        "# ***Let's Begin !***"
      ],
      "metadata": {
        "id": "O_i_v8NEhb9l"
      }
    },
    {
      "cell_type": "markdown",
      "source": [
        "## ***1. Know Your Data***"
      ],
      "metadata": {
        "id": "HhfV-JJviCcP"
      }
    },
    {
      "cell_type": "markdown",
      "source": [
        "### Import Libraries"
      ],
      "metadata": {
        "id": "Y3lxredqlCYt"
      }
    },
    {
      "cell_type": "code",
      "source": [
        "# Import Libraries\n",
        "import pandas as pd # import pandas operation\n",
        "import numpy as np # import numpy operation\n",
        "from numpy import mean\n",
        "import matplotlib.pyplot as plt # import matplotlib\n",
        "import seaborn as sns\n",
        "%matplotlib inline\n",
        "from skimage.io import imread\n",
        "import statistics\n",
        "from collections import Counter\n",
        "from wordcloud import WordCloud, ImageColorGenerator\n",
        "sns.set_theme(style = 'ticks', color_codes= True)\n",
        "\n",
        "from google.colab import drive\n",
        "drive.mount('/content/drive')\n"
      ],
      "metadata": {
        "id": "M8Vqi-pPk-HR"
      },
      "execution_count": null,
      "outputs": []
    },
    {
      "cell_type": "markdown",
      "source": [
        "### Dataset Loading"
      ],
      "metadata": {
        "id": "3RnN4peoiCZX"
      }
    },
    {
      "cell_type": "code",
      "source": [
        "# Load Dataset\n",
        "file_path = \"/content/Airbnb NYC 2019.csv\"\n",
        "df_air = pd.read_csv(file_path)"
      ],
      "metadata": {
        "id": "4CkvbW_SlZ_R"
      },
      "execution_count": null,
      "outputs": []
    },
    {
      "cell_type": "markdown",
      "source": [
        "### Dataset First View"
      ],
      "metadata": {
        "id": "x71ZqKXriCWQ"
      }
    },
    {
      "cell_type": "code",
      "source": [
        "# Dataset First Look\n",
        "df_air = pd.read_csv (file_path)\n",
        "df_air.head(10)"
      ],
      "metadata": {
        "id": "LWNFOSvLl09H"
      },
      "execution_count": null,
      "outputs": []
    },
    {
      "cell_type": "markdown",
      "source": [
        "### Dataset Rows & Columns count"
      ],
      "metadata": {
        "id": "7hBIi_osiCS2"
      }
    },
    {
      "cell_type": "code",
      "source": [
        "# Dataset Rows & Columns count\n",
        "# we have to check rows & columns\n",
        "df_air.shape\n"
      ],
      "metadata": {
        "id": "Kllu7SJgmLij"
      },
      "execution_count": null,
      "outputs": []
    },
    {
      "cell_type": "markdown",
      "source": [
        "### Dataset Information"
      ],
      "metadata": {
        "id": "JlHwYmJAmNHm"
      }
    },
    {
      "cell_type": "code",
      "source": [
        "# Dataset Info\n",
        "# below are the information of data file \n",
        "df_air.info"
      ],
      "metadata": {
        "id": "e9hRXRi6meOf"
      },
      "execution_count": null,
      "outputs": []
    },
    {
      "cell_type": "markdown",
      "source": [
        "#### Duplicate Values"
      ],
      "metadata": {
        "id": "35m5QtbWiB9F"
      }
    },
    {
      "cell_type": "code",
      "source": [
        "# Dataset Duplicate Value Count\n",
        "#below entry is use to check duplicate values\n",
        "df_air.duplicated()\n"
      ],
      "metadata": {
        "id": "1sLdpKYkmox0"
      },
      "execution_count": null,
      "outputs": []
    },
    {
      "cell_type": "code",
      "source": [
        "## we can use another methode for duplicate count \n",
        "df_air.duplicated().sum()"
      ],
      "metadata": {
        "id": "YhJYyZyFc76x"
      },
      "execution_count": null,
      "outputs": []
    },
    {
      "cell_type": "markdown",
      "source": [
        "#### Missing Values/Null Values"
      ],
      "metadata": {
        "id": "PoPl-ycgm1ru"
      }
    },
    {
      "cell_type": "code",
      "source": [
        "# Missing Values/Null Values Count\n",
        "#df_air.isnull().sum()\n",
        "df_air.isnull().sum()"
      ],
      "metadata": {
        "id": "GgHWkxvamxVg"
      },
      "execution_count": null,
      "outputs": []
    },
    {
      "cell_type": "code",
      "source": [
        "# to check the missing value in name\n",
        "df_air[df_air['name'].isnull()]\n"
      ],
      "metadata": {
        "id": "yVJVnfghd7JQ"
      },
      "execution_count": null,
      "outputs": []
    },
    {
      "cell_type": "code",
      "source": [
        "# to check the missing host id name\n",
        "df_air[df_air['host_name'].isnull()]"
      ],
      "metadata": {
        "id": "CCfjwzvRelEV"
      },
      "execution_count": null,
      "outputs": []
    },
    {
      "cell_type": "code",
      "source": [
        "# Visualizing the missing values\n",
        "missing = df_air.isnull().sum()\n",
        "\n",
        "plt.figure(figsize = (15,8))\n",
        "missing.plot.bar()\n"
      ],
      "metadata": {
        "id": "3q5wnI3om9sJ"
      },
      "execution_count": null,
      "outputs": []
    },
    {
      "cell_type": "markdown",
      "source": [
        "### What did you know about your dataset?"
      ],
      "metadata": {
        "id": "H0kj-8xxnORC"
      }
    },
    {
      "cell_type": "markdown",
      "source": [
        "Answer Here"
      ],
      "metadata": {
        "id": "gfoNAAC-nUe_"
      }
    },
    {
      "cell_type": "markdown",
      "source": [
        "## ***2. Understanding Your Variables***"
      ],
      "metadata": {
        "id": "nA9Y7ga8ng1Z"
      }
    },
    {
      "cell_type": "code",
      "source": [
        "# Dataset Columns\n",
        "# we had check all columns\n",
        "df_air.columns"
      ],
      "metadata": {
        "id": "j7xfkqrt5Ag5"
      },
      "execution_count": null,
      "outputs": []
    },
    {
      "cell_type": "code",
      "source": [
        "# Dataset Describe\n",
        "# here we had to check describe\n",
        "df_air.describe()"
      ],
      "metadata": {
        "id": "DnOaZdaE5Q5t"
      },
      "execution_count": null,
      "outputs": []
    },
    {
      "cell_type": "markdown",
      "source": [
        "### Variables Description "
      ],
      "metadata": {
        "id": "PBTbrJXOngz2"
      }
    },
    {
      "cell_type": "markdown",
      "source": [
        "Answer Here"
      ],
      "metadata": {
        "id": "aJV4KIxSnxay"
      }
    },
    {
      "cell_type": "code",
      "source": [
        "df_air[df_air['host_name'] == 'john']"
      ],
      "metadata": {
        "id": "PJ0HSBeESkUy"
      },
      "execution_count": null,
      "outputs": []
    },
    {
      "cell_type": "markdown",
      "source": [
        "### Check Unique Values for each variable."
      ],
      "metadata": {
        "id": "u3PMJOP6ngxN"
      }
    },
    {
      "cell_type": "code",
      "source": [
        "# check unique value of each variable\n",
        "df_air['host_id'].nunique()"
      ],
      "metadata": {
        "id": "tOZTKIvxRZuy"
      },
      "execution_count": null,
      "outputs": []
    },
    {
      "cell_type": "code",
      "source": [
        "df_air['host_name'].nunique()"
      ],
      "metadata": {
        "id": "dYNnlNA2TP6P"
      },
      "execution_count": null,
      "outputs": []
    },
    {
      "cell_type": "markdown",
      "source": [
        "## 3. ***Data Wrangling***"
      ],
      "metadata": {
        "id": "dauF4eBmngu3"
      }
    },
    {
      "cell_type": "markdown",
      "source": [
        "### Data Wrangling Code"
      ],
      "metadata": {
        "id": "NoSjqew0inhB"
      }
    },
    {
      "cell_type": "code",
      "source": [
        "# Write your code to make your dataset analysis ready.\n",
        "# let analysis the data by using the chart\n",
        "df_air.describe()"
      ],
      "metadata": {
        "id": "gvRb3tSqinhB"
      },
      "execution_count": null,
      "outputs": []
    },
    {
      "cell_type": "markdown",
      "source": [
        "### What all manipulations have you done and insights you found?"
      ],
      "metadata": {
        "id": "zuqY3tEninhB"
      }
    },
    {
      "cell_type": "code",
      "source": [
        "percentage_of_data_having_availbility_0 = round(len(df_air[df_air['availability_365']==0] ['availability_365'])/len(df_air['availability_365'])*100,2)\n",
        "print(f'The Percentage of data having availability as 0 is {percentage_of_data_having_availbility_0}')"
      ],
      "metadata": {
        "id": "DdN4dSQ6jqmg"
      },
      "execution_count": null,
      "outputs": []
    },
    {
      "cell_type": "markdown",
      "source": [
        "  So we can clearly notice that availability column is having minimum valuse as well as 25th percentile is 0. So that seem awkward beacuse having availability days 0 for 36% of data is bit shocking, If you have a business of providing  sheltersfor AirBnb your availablity is 0 days that is extreme case and extreme case is obviously shocking when it come 36% of data is having extreme case. But its not practicaly to excactly detect which apartment are having realy availability 0 days, so we will not aalter this column as if we try to alter we can end up manipulating appartment which are really mostly busu(i.e 0 no. days availability)   "
      ],
      "metadata": {
        "id": "VpG6D-qfNGSB"
      }
    },
    {
      "cell_type": "markdown",
      "source": [
        "we can also clearly see that minimum price is 0, which is surprising as price 0 does'nt make sense to do business"
      ],
      "metadata": {
        "id": "atPTlcBKReCD"
      }
    },
    {
      "cell_type": "markdown",
      "source": [
        "## **Let check out the last review wise count of where of where availability 365 is 0**"
      ],
      "metadata": {
        "id": "4zSDHGmHRc8w"
      }
    },
    {
      "cell_type": "code",
      "source": [
        "df_air[df_air['availability_365']==0].groupby(['last_review']).size().sort_values(ascending=False).head(15)"
      ],
      "metadata": {
        "id": "XJumNEIcjqL5"
      },
      "execution_count": null,
      "outputs": []
    },
    {
      "cell_type": "markdown",
      "source": [
        "## Lets fill these data with appropriate price value(By filling the price with median price for each room type)"
      ],
      "metadata": {
        "id": "IMfpKT2nVHQc"
      }
    },
    {
      "cell_type": "code",
      "source": [
        "df_air.loc[ (df_air.room_type=='Entire home/apt') & (df_air.price==0),'price']=df_air.loc[(df_air.room_type=='Entire home/apt') & (df_air.price!=0),'price'].median()\n",
        "df_air.loc[ (df_air.room_type=='Private room') & (df_air.price==0),'price']=df_air.loc[(df_air.room_type=='Private room') & (df_air.price!=0),'price'].median()\n",
        "df_air.loc[ (df_air.room_type=='Shared room') & (df_air.price==0),'price']=df_air.loc[(df_air.room_type=='Shared room') & (df_air.price!=0),'price'].median()"
      ],
      "metadata": {
        "id": "FMraoY9Ijp4g"
      },
      "execution_count": null,
      "outputs": []
    },
    {
      "cell_type": "code",
      "source": [
        "df_air.describe()"
      ],
      "metadata": {
        "id": "yYfoVfsMMZGR"
      },
      "execution_count": null,
      "outputs": []
    },
    {
      "cell_type": "markdown",
      "source": [
        "**NOTE: We can notic that we have succesfully updated the price column where we have values as 0,we succesfully  updated the value with respective price value**"
      ],
      "metadata": {
        "id": "6AJuIznRNOwS"
      }
    },
    {
      "cell_type": "code",
      "source": [
        "df_air.fillna({'reviews_per_month':0},inplace=True)"
      ],
      "metadata": {
        "id": "y6-WvZP4NQ8K"
      },
      "execution_count": null,
      "outputs": []
    },
    {
      "cell_type": "code",
      "source": [
        "## Which Host are have heighest numer of appartment\n",
        "### In this i will demonstrate that why we need to go   with host_id rather then host_name\n",
        "\n",
        "df_air['host_name'].value_counts()\n"
      ],
      "metadata": {
        "id": "MQSJQGnNS24i"
      },
      "execution_count": null,
      "outputs": []
    },
    {
      "cell_type": "code",
      "source": [
        "df_air['host_id'].value_counts()"
      ],
      "metadata": {
        "id": "wYn3KuBzUTFv"
      },
      "execution_count": null,
      "outputs": []
    },
    {
      "cell_type": "markdown",
      "source": [
        "  From this we can see that host name michael its appearing 417 time in the host_name column, so this might imply that michael is having heighest number of room,but from the host_id column its showing heighest appearance of any host_id  is 327, so this clearly implies that there can be multiple may have same name thats why we are we are getting diffrent heighest apperance in host_name as campared to host_id.\n",
        "\n",
        "  Lets check which host_name is actually having heighest number of apperments "
      ],
      "metadata": {
        "id": "ODyO0t3AUhnk"
      }
    },
    {
      "cell_type": "code",
      "source": [
        "df_air[df_air['host_id']==219517861]['host_name'].unique()"
      ],
      "metadata": {
        "id": "hbWE6vWdMVl_"
      },
      "execution_count": null,
      "outputs": []
    },
    {
      "cell_type": "code",
      "source": [
        "## So sonder (NYC) is having maximum number of rooms for the guest, for Airbnb he mignt be very important person then \n",
        "\n",
        "df_sonder= df_air[df_air['host_name']=='Sonder (NYC)']\n",
        "df_sonder[['host_name','neighbourhood_group','neighbourhood','latitude','longitude']].head(6)\n"
      ],
      "metadata": {
        "id": "3-I3euu7MaLO"
      },
      "execution_count": null,
      "outputs": []
    },
    {
      "cell_type": "markdown",
      "source": [
        "Sonder(NYC) is having multiple appermen in same building in diffrent diffrent neighbourdhood"
      ],
      "metadata": {
        "id": "Xx0mfAdETVZo"
      }
    },
    {
      "cell_type": "markdown",
      "source": [
        "**Which are the top 10 neighbourdhood which are having maximum number of appertment for Airbnb**"
      ],
      "metadata": {
        "id": "yja6MqFeT3Xw"
      }
    },
    {
      "cell_type": "code",
      "source": [
        "df_air['neighbourhood'].value_counts().head(10)"
      ],
      "metadata": {
        "id": "yoiKnSnRTLGk"
      },
      "execution_count": null,
      "outputs": []
    },
    {
      "cell_type": "markdown",
      "source": [
        "#### Chart - 1"
      ],
      "metadata": {
        "id": "-9MweNAiinhH"
      }
    },
    {
      "cell_type": "code",
      "source": [
        "df_air[df_air['name'].isnull()].head()"
      ],
      "metadata": {
        "id": "sgeFknlBYnYo"
      },
      "execution_count": null,
      "outputs": []
    },
    {
      "cell_type": "markdown",
      "source": [
        "**Observation:**\n",
        "1.\tThis columns is having names describing the property which is host is trying to give on rent,so the nature of this names is short and consise and this is required as this can draw an attention of customer.\n",
        "2.\tThe question arises that how to fill the missing values in this columns.we will explore further dataset and try to find out better optiions to fill the missing values.\n",
        "3.\tThis Feature can be important in model building like Recommender systems.\n",
        "4.\tOf course there is no point in removing these cells although they are limited in numbers.\n"
      ],
      "metadata": {
        "id": "BbhmoKxBY-gF"
      }
    },
    {
      "cell_type": "markdown",
      "source": [
        "## ***4. Data Vizualization, Storytelling & Experimenting with charts : Understand the relationships between variables***"
      ],
      "metadata": {
        "id": "wIN06gvrinhI"
      }
    },
    {
      "cell_type": "code",
      "source": [
        "df_air.head()"
      ],
      "metadata": {
        "id": "OZY5rTUQbpMv"
      },
      "execution_count": null,
      "outputs": []
    },
    {
      "cell_type": "markdown",
      "source": [
        "**Observations:**\n",
        "•\tTotal 16 columns are present in the dataset.\n",
        "•\ttotal observations are 48895.\n"
      ],
      "metadata": {
        "id": "iF5ObOgic_7K"
      }
    },
    {
      "cell_type": "code",
      "source": [
        " df_air.info()"
      ],
      "metadata": {
        "id": "1yNO1fB9bpCv"
      },
      "execution_count": null,
      "outputs": []
    },
    {
      "cell_type": "code",
      "source": [
        "#name column\n",
        "df_air.name"
      ],
      "metadata": {
        "id": "o-tcrjbKiZGQ"
      },
      "execution_count": null,
      "outputs": []
    },
    {
      "cell_type": "code",
      "source": [
        "df_air[df_air['name'].isnull()].head()"
      ],
      "metadata": {
        "id": "n_dhjOMaiYx0"
      },
      "execution_count": null,
      "outputs": []
    },
    {
      "cell_type": "markdown",
      "source": [
        "**Observation:**\n",
        "1.\tThis columns is having names describing the property which is host is trying to give on rent,so the nature of this names is short and consise and this is required as this can draw an attention of customer.\n",
        "2.\tThe question arises that how to fill the missing values in this columns.we will explore further dataset and try to find out better optiions to fill the missing values.\n",
        "3.\tThis Feature can be important in model building like Recommender systems.\n",
        "4.\tOf course there is no point in removing these cells although they are limited in numbers.\n"
      ],
      "metadata": {
        "id": "ouJhC3UUip6h"
      }
    },
    {
      "cell_type": "code",
      "source": [
        "  df_air.room_type"
      ],
      "metadata": {
        "id": "_AGpvK9liYez"
      },
      "execution_count": null,
      "outputs": []
    },
    {
      "cell_type": "markdown",
      "source": [
        "**Observations**\n",
        "1.\troom_type column is not having any null values,and also we can try to use this values in place of NAN values in name column this can solve our purpose and we can atlest put front what is the type of room!\n",
        "2.\tyes, we will replace the nan values with the values which are in room_type column.\n"
      ],
      "metadata": {
        "id": "HS7V8JQNi40Y"
      }
    },
    {
      "cell_type": "code",
      "source": [
        "#This code snippit will replce the nan values.\n",
        "#fillna() method will do the job...\n",
        "df_air.name.fillna(df_air.room_type, inplace=True)\n",
        "#check the changes.\n",
        "df_air.isnull().sum()"
      ],
      "metadata": {
        "id": "aSAxNGFji1K6"
      },
      "execution_count": null,
      "outputs": []
    },
    {
      "cell_type": "markdown",
      "source": [
        "**Observations:**\n",
        "1.\tWe have replaced the nan values with corresponding room_type values.\n",
        "2.\tThis should solve our purpose.\n"
      ],
      "metadata": {
        "id": "jFRszrLBjVC-"
      }
    },
    {
      "cell_type": "code",
      "source": [
        "  #list of words.\n",
        "  name_list = list(df_air.name.values)\n",
        "  words = []\n",
        "  for i in name_list:\n",
        "    words+=i.split()\n",
        "  #let's see top 50 used words .\n",
        "  _top_50_words=Counter(words).most_common()\n",
        "  _top_50_words=_top_50_words[0:50]\n",
        "  #dataFrame for top 50 words.\n",
        "  top_50_words = pd.DataFrame(_top_50_words,columns = ['words','frequency'])\n",
        "  # visualization\n",
        "  plt.figure(figsize=(20,5))\n",
        "  ax_1= sns.barplot(x='words',y='frequency',data = top_50_words)\n",
        "  ax_1.set_title('top 50 words')\n",
        "  ax_1.set_ylabel('frequency of words')\n",
        "  ax_1.set_xlabel('Words')\n",
        "  ax_1.set_xticklabels(ax_1.get_xticklabels(), rotation=60)\n",
        "\n"
      ],
      "metadata": {
        "id": "pJ-CTzPyiGwB"
      },
      "execution_count": null,
      "outputs": []
    },
    {
      "cell_type": "code",
      "source": [
        "neigh_unique_values = df_air['neighbourhood'].value_counts()\n",
        "neigh_unique_values"
      ],
      "metadata": {
        "id": "I9hYE2lIhveC"
      },
      "execution_count": null,
      "outputs": []
    },
    {
      "cell_type": "code",
      "source": [
        "#.most_common() Return a list of the n most common elements and their counts from the most common to the least.\n",
        "top_50_=Counter( df_air['neighbourhood']).most_common()\n",
        "top_50_=top_50_[0:50]\n",
        "top_50_[:20]\n",
        "\n",
        "[('Williamsburg', 3920),\n",
        " ('Bedford-Stuyvesant', 3714),\n",
        " ('Harlem', 2658),\n",
        " ('Bushwick', 2465),\n",
        " ('Upper West Side', 1971),\n",
        " (\"Hell's Kitchen\", 1958),\n",
        " ('East Village', 1853),\n",
        " ('Upper East Side', 1798),\n",
        " ('Crown Heights', 1564),\n",
        " ('Midtown', 1545),\n",
        " ('East Harlem', 1117),\n",
        " ('Greenpoint', 1115),\n",
        " ('Chelsea', 1113),\n",
        " ('Lower East Side', 911),\n",
        " ('Astoria', 900),\n",
        " ('Washington Heights', 899),\n",
        " ('West Village', 768),\n",
        " ('Financial District', 744),\n",
        " ('Flatbush', 621),\n",
        " ('Clinton Hill', 572)]\n",
        "\n",
        "#count_plot\n",
        "plt.figure(figsize=(20,5))\n",
        "ax_4 = sns.barplot(x='neighbourhood',y='count',data = pd.DataFrame(top_50_,columns=['neighbourhood','count'][:20]))\n",
        "ax_4.set_title('Count of Neighbourhood')\n",
        "ax_4.set_ylabel('Frequency')\n",
        "ax_4.set_xlabel('Neighbourhood')\n",
        "ax_4.set_xticklabels(ax_4.get_xticklabels(), rotation=80);\n",
        "plt.show()\n"
      ],
      "metadata": {
        "id": "7zyqJiBHbo7r"
      },
      "execution_count": null,
      "outputs": []
    },
    {
      "cell_type": "code",
      "source": [
        "df_air['host_name'].nunique()"
      ],
      "metadata": {
        "id": "UJouMG8Tbo0j"
      },
      "execution_count": null,
      "outputs": []
    },
    {
      "cell_type": "markdown",
      "source": [
        "**Observations:**\n",
        "1.\thost_name this column is defining the name of host(owner).\n",
        "2.\tThere are 11452 unique hosts/owners we can use this featue directly in model building just by encoding it.response encoding will be usefull for this feature.\n",
        "3.\twe can take nan value as one data point for model building.\n"
      ],
      "metadata": {
        "id": "m6LAtuEcjwLH"
      }
    },
    {
      "cell_type": "code",
      "source": [
        "df_air['neighbourhood_group']"
      ],
      "metadata": {
        "id": "G7avxFmUjobo"
      },
      "execution_count": null,
      "outputs": []
    },
    {
      "cell_type": "code",
      "source": [
        "df_air['neighbourhood_group'].unique()\n",
        "\n",
        "#count_plot\n",
        "plt.figure(figsize=(10,5))\n",
        "ax_3 = sns.countplot(x='neighbourhood_group',data = df_air)\n",
        "ax_3.set_title('Count of neighbourhood_group')\n",
        "ax_3.set_ylabel('frequency')\n",
        "ax_3.set_xlabel('neighbourhood_group')  \n",
        "plt.show()\n"
      ],
      "metadata": {
        "id": "a6I6q7ZFjoVB"
      },
      "execution_count": null,
      "outputs": []
    },
    {
      "cell_type": "markdown",
      "source": [
        "**Observations:**\n",
        "1.\tBrooklyn and Manhattan have the highest hotel/room bookings.\n"
      ],
      "metadata": {
        "id": "vENaGBmokKHN"
      }
    },
    {
      "cell_type": "code",
      "source": [
        "# Chart - 1 visualization code\n",
        "neigh_unique_values = df_air['neighbourhood'].value_counts()\n",
        "neigh_unique_values"
      ],
      "metadata": {
        "id": "cgY0JcY8inhb"
      },
      "execution_count": null,
      "outputs": []
    },
    {
      "cell_type": "markdown",
      "source": [
        "**Observations:**\n",
        "1.\tThere are 221 unique neighbor"
      ],
      "metadata": {
        "id": "VFDTIROkkjfw"
      }
    },
    {
      "cell_type": "code",
      "source": [
        "#.most_common() Return a list of the n most common elements and their counts from the most common to the least.\n",
        "top_50_=Counter( df_air['neighbourhood']).most_common()\n",
        "top_50_=top_50_[0:50]\n",
        "top_50_[:20]\n",
        "\n",
        "[('Williamsburg', 3920),\n",
        " ('Bedford-Stuyvesant', 3714),\n",
        " ('Harlem', 2658),\n",
        " ('Bushwick', 2465),\n",
        " ('Upper West Side', 1971),\n",
        " (\"Hell's Kitchen\", 1958),\n",
        " ('East Village', 1853),\n",
        " ('Upper East Side', 1798),\n",
        " ('Crown Heights', 1564),\n",
        " ('Midtown', 1545),\n",
        " ('East Harlem', 1117),\n",
        " ('Greenpoint', 1115),\n",
        " ('Chelsea', 1113),\n",
        " ('Lower East Side', 911),\n",
        " ('Astoria', 900),\n",
        " ('Washington Heights', 899),\n",
        " ('West Village', 768),\n",
        " ('Financial District', 744),\n",
        " ('Flatbush', 621),\n",
        " ('Clinton Hill', 572)]\n",
        "\n",
        "#count_plot\n",
        "plt.figure(figsize=(20,5))\n",
        "ax_4 = sns.barplot(x='neighbourhood',y='count',data = pd.DataFrame(top_50_,columns=['neighbourhood','count'][:20]))\n",
        "ax_4.set_title('Count of Neighbourhood')\n",
        "ax_4.set_ylabel('Frequency')\n",
        "ax_4.set_xlabel('Neighbourhood')\n",
        "ax_4.set_xticklabels(ax_4.get_xticklabels(), rotation=80);\n",
        "plt.show()"
      ],
      "metadata": {
        "id": "s6_hweoDjcAf"
      },
      "execution_count": null,
      "outputs": []
    },
    {
      "cell_type": "markdown",
      "source": [
        "**Observations:**\n",
        "1.\tThe above plot shows us some of the top Neighbours towns we can say.\n",
        "2.\tPeople like to stay at these towns more offent."
      ],
      "metadata": {
        "id": "Qzf0Dl9Tinhc"
      }
    },
    {
      "cell_type": "code",
      "source": [
        "df_air[['latitude','longitude']]"
      ],
      "metadata": {
        "id": "ku-EHLXplDfx"
      },
      "execution_count": null,
      "outputs": []
    },
    {
      "cell_type": "markdown",
      "source": [
        "**Observation:**\n",
        "1.\twe can see the exact locations from this columns.\n"
      ],
      "metadata": {
        "id": "yJNJUHEylKum"
      }
    },
    {
      "cell_type": "code",
      "source": [
        "#simple scatterplot:\n",
        "\n",
        "plt.figure(figsize=(10,6))\n",
        "ax_5 = sns.scatterplot(df_air.longitude,df_air.latitude,hue=df_air.neighbourhood_group)\n",
        "ax_5.set_title('Density of rooms')\n",
        "ax_5.set_ylabel('latitude')\n",
        "ax_5.set_xlabel('longitude')\n",
        "plt.show()"
      ],
      "metadata": {
        "id": "UeTQfo4AlSNn"
      },
      "execution_count": null,
      "outputs": []
    },
    {
      "cell_type": "code",
      "source": [
        "# Column_no_6 room_type:\n",
        "df_air[['room_type']].nunique()\n",
        "\n",
        "#count_plot'\n",
        "plt.figure(figsize=(10,5))\n",
        "sns_6 = sns.countplot(x='room_type',data = df_air)\n",
        "sns_6.set_title('frequency_plot')\n",
        "sns_6.set_ylabel('frequency')\n",
        "sns_6.set_xlabel('room_type')\n",
        "\n",
        "plt.show()"
      ],
      "metadata": {
        "id": "2_T1o3WDlSGi"
      },
      "execution_count": null,
      "outputs": []
    },
    {
      "cell_type": "markdown",
      "source": [
        "**Observations**\n",
        "1.\tThere are three types of rooms\n",
        "2.\tNamely:\n",
        "1.Private room\n",
        "2.Entire home/apt room_type\n",
        "3.Shared room.\n",
        "3.People mostly prefered to take whole apartment on rent followed by Private room. 4. very few people prefered to have shared rooms.\n",
        "We will try to catogorise the 'price'like cheep,affordable and expensive and then analyse the 'price' for 'room_type' as per it.\n"
      ],
      "metadata": {
        "id": "STy4rPxbl3oW"
      }
    },
    {
      "cell_type": "code",
      "source": [
        "df_air[['price']].describe()"
      ],
      "metadata": {
        "id": "0oPEG5PElR-9"
      },
      "execution_count": null,
      "outputs": []
    },
    {
      "cell_type": "code",
      "source": [
        "#function to catogory the types of rooms.\n",
        "def price_catagory(price):\n",
        "  if price<=80:\n",
        "    return 'cheep'\n",
        "  elif price>=80 and price<=500:\n",
        "    return 'affordable'\n",
        "  else:\n",
        "    return 'Expensive'\n",
        "\n",
        "plt.figure(figsize=(10,5))\n",
        "ax_7 = sns.countplot(x=df_air['price'].apply(price_catagory))\n",
        "ax_7.set_title('Count Plot')\n",
        "ax_7.set_xlabel('Catogories of rooms')\n",
        "ax_7.set_ylabel(\"Count\")\n",
        "plt.show()"
      ],
      "metadata": {
        "id": "-dYRG7eglR1v"
      },
      "execution_count": null,
      "outputs": []
    },
    {
      "cell_type": "markdown",
      "source": [
        "**Observations**\n",
        "1.\tThere are three types of rooms\n",
        "2.\tNamely:\n",
        "   1.Private room\n",
        "   2.Entire home/apt room_type\n",
        "   3.Shared room.\n",
        "3.People mostly prefered to take whole apartment on rent followed by Private room. 4. very few people prefered to have shared rooms.\n",
        "We will try to catogorise the 'price'like cheep,affordable and expensive and then analyse the 'price' for 'room_type' as per it.\n"
      ],
      "metadata": {
        "id": "bUWbFlIDmM46"
      }
    },
    {
      "cell_type": "code",
      "source": [
        "df_air[['price']].describe()"
      ],
      "metadata": {
        "id": "qt-K8IsulRuW"
      },
      "execution_count": null,
      "outputs": []
    },
    {
      "cell_type": "code",
      "source": [
        "#function to catogory the types of rooms.\n",
        "def price_catagory(price):\n",
        "  if price<=80:\n",
        "    return 'cheep'\n",
        "  elif price>=80 and price<=500:\n",
        "    return 'affordable'\n",
        "  else:\n",
        "    return 'Expensive'\n",
        "\n",
        "plt.figure(figsize=(10,5))\n",
        "ax_7 = sns.countplot(x=df_air['price'].apply(price_catagory))\n",
        "ax_7.set_title('Count Plot')\n",
        "ax_7.set_xlabel('Catogories of rooms')\n",
        "ax_7.set_ylabel(\"Count\")\n",
        "plt.show()"
      ],
      "metadata": {
        "id": "wj1j1jKrlRgK"
      },
      "execution_count": null,
      "outputs": []
    },
    {
      "cell_type": "markdown",
      "source": [
        "**Observations**\n",
        "1.\twe have considered to devide the whole price range into three catogories\n",
        "\n",
        "A.\tcheep (price range below or equal to 80$)\n",
        "B.\tAffordable(for price range 80 to 500$)\n",
        "C.\tExpensive(for price range more then 500$)\n",
        "so, it look like people have more intrest in having \"affordable\" rooms/apartments rathre then having cheep and expensive rooms.\n"
      ],
      "metadata": {
        "id": "Y6bTw3WUm85r"
      }
    },
    {
      "cell_type": "code",
      "source": [
        "df_air[['minimum_nights']].value_counts()"
      ],
      "metadata": {
        "id": "trkRCr6BnON4"
      },
      "execution_count": null,
      "outputs": []
    },
    {
      "cell_type": "code",
      "source": [
        "df_air[['minimum_nights']].describe()"
      ],
      "metadata": {
        "id": "OM3c8ESMnOBj"
      },
      "execution_count": null,
      "outputs": []
    },
    {
      "cell_type": "code",
      "source": [
        "ax = sns.distplot(df_air.minimum_nights)\n",
        "plt.title('Minimum no. of nights distribution')\n",
        "plt.show()\n"
      ],
      "metadata": {
        "id": "AQwgOwDRnN5k"
      },
      "execution_count": null,
      "outputs": []
    },
    {
      "cell_type": "markdown",
      "source": [
        "**Observations**\n",
        "1.\tmost of the neights booked are from 0 to less then 100 days.\n",
        "we will plot further and see.\n",
        "2. we can see that there may be outliers.we can plot and check it.\n",
        "3. we will plot box plot and check.\n",
        "4. log scale can show us the shape of skwed data.\n",
        "Note:How do you handle skewed data in Python?\n",
        "One way of handling right, or left, skewed data is to carry out the logarithmic transformation on our data. For example, np.log(x) will log transform the variable x in Python. There are other options as well as the Box-Cox and Square root transformations.\n",
        "**Observations** \n",
        "              **From statistics:**\n",
        "1.\tAverage booking is aroun 7 neights.\n",
        "2.\tminimum booking is for 1 neight.\n",
        "3.\tmax booking is for more then a year or we can say for few years.\n"
      ],
      "metadata": {
        "id": "3tzTkIoYnfdN"
      }
    },
    {
      "cell_type": "code",
      "source": [
        "from scipy.stats import boxcox\n",
        "# power transform\n",
        "data_box_cox_transform = boxcox(df_air.minimum_nights)\n",
        "#lambda=0 it means log transform by defination of box-cox transform.\n",
        "data_box_cox_transform\n"
      ],
      "metadata": {
        "id": "uaQY3dcjnNy8"
      },
      "execution_count": null,
      "outputs": []
    },
    {
      "cell_type": "code",
      "source": [
        "from matplotlib import text\n",
        "from pyparsing.helpers import string\n",
        "#plot for box-cox transformed data.\n",
        "sns.set_theme(); np.random.seed(0)\n",
        "plt.figure(figsize=(10,5))\n",
        "\n",
        "ax = sns.displot(data_box_cox_transform)\n",
        "\n",
        "plt.title('Minimum no.of nights distribution')\n",
        "\n",
        "text={0.5, 1.0, 'Minimum no.of nights distribution'}\n",
        "\n"
      ],
      "metadata": {
        "id": "8QyVolaUnNrb"
      },
      "execution_count": null,
      "outputs": []
    },
    {
      "cell_type": "markdown",
      "source": [
        "**Observations:**\n",
        "1.\tit's very clear that the data is right skwed.\n"
      ],
      "metadata": {
        "id": "jSyamjrKoJU7"
      }
    },
    {
      "cell_type": "code",
      "source": [
        "from nltk.draw.util import Text\n",
        "log_transfrom = np.log(df_air['minimum_nights'])\n",
        "\n",
        "ax = sns.distplot(log_transfrom)\n",
        "plt.title('Minimum no.of nights distribution')\n",
        "Text={0.5, 1.0, 'Minimum no.of nights distribution'}\n"
      ],
      "metadata": {
        "id": "rXm404djn2oz"
      },
      "execution_count": null,
      "outputs": []
    },
    {
      "cell_type": "markdown",
      "source": [
        "**Observations**\n",
        "1.\tThis plots shows that majority of room booking is one for 1 to 4 days.\n",
        "2.\tBox-Cox transformed plot strictly shows that the majority of booking lies between 0 to 3 days.we have set the lambda parameter not equal to zero so it by defination of bax-cox transform selected the best value of lambda.\n"
      ],
      "metadata": {
        "id": "gZHzSXBOoWhQ"
      }
    },
    {
      "cell_type": "code",
      "source": [
        "# distplot\n",
        "# f, ax=plt.subplots(figsize=(8,6))\n",
        "sns.set(rc={'figure.figsize':(20,6)})\n",
        "sns.distplot(df_air['price'],hist=True)"
      ],
      "metadata": {
        "id": "FwGoGG8f2hTh"
      },
      "execution_count": null,
      "outputs": []
    },
    {
      "cell_type": "code",
      "source": [
        "#the distribution tells it has positive skew\n",
        "# also the distribution doesn't deviate much form normal distribution.\n",
        "# skewness and kurtosis\n",
        "\n",
        "print('Skewness: %f' % df_air['price'].skew())\n",
        "print('kurtosis: %f' % df_air['price'].kurt())"
      ],
      "metadata": {
        "id": "fcwAqTtpQ3Gg"
      },
      "execution_count": null,
      "outputs": []
    },
    {
      "cell_type": "markdown",
      "source": [
        "**Observations**\n",
        "\n",
        "1. look the skew and kurtosis come out very large.Since the skewness has value >1 it is highly skewed.\n",
        "2. Also kurtosis look high as well which indicates presence of good amount of outliers,We will look later into that when we handle outliers!!"
      ],
      "metadata": {
        "id": "vuiwAoIUosjO"
      }
    },
    {
      "cell_type": "code",
      "source": [
        "#price vs minimum_nights\n",
        "\n",
        "var='minimum_nights'\n",
        "data = pd.concat([df_air['price'],df_air[var]],axis=1)\n",
        "data.plot.scatter(x=var,y='price',ylim=(0,12000))"
      ],
      "metadata": {
        "id": "ZoQrk85QPcN2"
      },
      "execution_count": null,
      "outputs": []
    },
    {
      "cell_type": "markdown",
      "source": [
        "**Observations**\n",
        "\n",
        "Look many data point are clustured on 0 price range, few have min night for stay but price is 0. look like anomaly in price.\n"
      ],
      "metadata": {
        "id": "JsPofEWZinhn"
      }
    },
    {
      "cell_type": "markdown",
      "source": [
        "#### Chart - 4"
      ],
      "metadata": {
        "id": "fAfDuUh-inhn"
      }
    },
    {
      "cell_type": "code",
      "source": [
        "# Chart - 4 visualization code\n",
        "df_air.boxplot(column=['price'])\n",
        "plt.show()"
      ],
      "metadata": {
        "id": "piFMGh02inhn"
      },
      "execution_count": null,
      "outputs": []
    },
    {
      "cell_type": "markdown",
      "source": [
        "**Observations**\n",
        "\n",
        "With help of this chart we can see the presence of many outliers in price. definitely we'll remove those patience!"
      ],
      "metadata": {
        "id": "_xNBFbHypVR5"
      }
    },
    {
      "cell_type": "markdown",
      "source": [
        "#### Chart - 5"
      ],
      "metadata": {
        "id": "tEeo7Ryfinho"
      }
    },
    {
      "cell_type": "code",
      "source": [
        "# Chart - 5 visualization code.\n",
        "top_10_hosts=df_air['host_name'].value_counts()[:10]\n",
        "top_10_hosts #top 10 hosts on the basis of no of listings in entire NYC"
      ],
      "metadata": {
        "id": "MMgr_ryBinho"
      },
      "execution_count": null,
      "outputs": []
    },
    {
      "cell_type": "code",
      "source": [
        "top_10_hosts.plot(kind='bar',color=\"r\")\n",
        "plt.xlabel('Top10_host')\n",
        "plt.ylabel('Total_NYC_listings')\n",
        "plt.title('Top 10 hosts on the basis of no of listings in entire NYC')"
      ],
      "metadata": {
        "id": "wddCrCTm_XCb"
      },
      "execution_count": null,
      "outputs": []
    },
    {
      "cell_type": "markdown",
      "source": [
        "**Observations**\n",
        "\n",
        "1.This chart is good to show the top 10 hosts on the basis of no of listings in entire NYC"
      ],
      "metadata": {
        "id": "eHymxMKtinhp"
      }
    },
    {
      "cell_type": "markdown",
      "source": [
        "#### Chart - 6"
      ],
      "metadata": {
        "id": "l3N81A2_inhp"
      }
    },
    {
      "cell_type": "code",
      "source": [
        "# percentile\n",
        "# Chart - 6 visualization code\n",
        "\n",
        "plt.rcParams['figure.figsize']=(8,5)\n",
        "ax =sns.countplot(y='room_type',hue='neighbourhood_group',data=df_air,palette='bright')\n",
        "\n",
        "total = len(df_air['room_type'])\n",
        "for p in ax.patches:\n",
        "    percentage = '{:.1f}%' .format(100 * p.get_width()/total)\n",
        "    x = p.get_x() + p.get_width() + 0.02\n",
        "    y = p.get_y() + p.get_height() /2\n",
        "    ax.annotate(percentage,(x,y))\n",
        "\n",
        "plt.title('count of each room  type in entire NYC')\n",
        "plt.xlabel('Rooms')\n",
        "plt.xticks(rotation=90)\n",
        "plt.ylabel('Room counts')\n",
        "plt.show()"
      ],
      "metadata": {
        "id": "3uLhyOz7inhp"
      },
      "execution_count": null,
      "outputs": []
    },
    {
      "cell_type": "markdown",
      "source": [
        "**Observations**\n",
        "\n",
        "Manhattan has more listed properties with Entire home/apt around 27% of total listed properties followed by Brooklyn with around 19.6%.\n",
        "Private rooms are more in Brooklyn as in 20.7% of the total listed properties followed by Manhattan with 16.3% of them. While 6.9% of private rooms are from Queens.\n",
        "Very few of the total listed have shared rooms listed on Airbnb where there's negligible or almost very rare shared rooms in Staten Island and Bronx.\n",
        "We can infer that Brooklyn,Queens,Bronx has more private room types while Manhattan which has the highest no of listings in entire NYC has more Entire home/apt room types.\n"
      ],
      "metadata": {
        "id": "FrJXgQ3Hinhq"
      }
    },
    {
      "cell_type": "markdown",
      "source": [
        "##### 3. Will the gained insights help creating a positive business impact? \n",
        "Are there any insights that lead to negative growth? Justify with specific reason."
      ],
      "metadata": {
        "id": "_8ayrGRqinhq"
      }
    },
    {
      "cell_type": "markdown",
      "source": [
        "\n",
        "\n",
        "Airbnb started with a simple idea: create an opportunity for travelers to experience life as a local in new and exciting destinations, without the hassle of hotels.\n",
        "Simple ideas often breed complex businesses, and Airbnb has now grown into a worldwide phenomenon. They facilitate rentals of millions of homes across the globe each year. This business success came about for a myriad of reasons — strong ideation, a growing customer base, and increased demand for travel. But Airbnb would not be successful without a powerful marketing strategy underpinning their operations.\n",
        "In this post we’ll dive into Airbnb’s marketing mix, the strategies that made them a successful brand, and how marketers can use these strategies to improve their own brand promotion operations\n"
      ],
      "metadata": {
        "id": "Ys7laC8jinhq"
      }
    },
    {
      "cell_type": "markdown",
      "source": [
        "## **5. Solution to Business Objective**"
      ],
      "metadata": {
        "id": "rnEVp7Vcinhr"
      }
    },
    {
      "cell_type": "markdown",
      "source": [
        "#### What do you suggest the client to achieve Business Objective ? \n",
        "Explain Briefly."
      ],
      "metadata": {
        "id": "M2KMDSnUinhr"
      }
    },
    {
      "cell_type": "markdown",
      "source": [
        "Airbnb’s product offerings differ between easy, affordable vacation rentals for its customers and an earning opportunity for its hosts.\n",
        "Renters are where Airbnb makes most of its income. As such, they maintain a high-quality mobile app and internet presence where these customers can easily make rental reservations.\n",
        "\n",
        "Hosts are Airbnb’s life-blood. Without this market they would be unable to rent out locations. The company offers hosts impressive incentives, making Airbnb hosting an easy opportunity to add a consistent stream of income.\n",
        "\n",
        "**Price**\n",
        "<!-- The original pricing strategy which made Airbnb a success was the company’s ability to undercut local hotels with affordable, comfortable rental locations. -->\n",
        "There is still an element of that market-based pricing at play. But now the company employs a more value-based pricing strategy that relies on the perceived and comparative value of bookings nearby to set prices.\n",
        "\n",
        "**Place**\n",
        "<!--  -->\n",
        "One of the greatest advantages Airbnb has over other rental management companies is its breadth of locations worldwide.\n",
        "With more than 4 million Airbnb hosts worldwide, you’re likely to find quality accommodations almost anywhere you travel.\n",
        "\n",
        "**Promotion**\n",
        "\n",
        "Airbnb has to promote to both travelers and guests in order to keep its rental system operating correctly. Marketing segmentation is a huge factor in Airbnb’s promotional strategy.\n",
        "Airbnb effectively promotes its service to travelers through a variety of traditional and digital advertisements along with word-of-mouth and referral marketing tactics.\n",
        "For hosts, Airbnb shares helpful content to help them make the most out of their Airbnb listings, along with traditional marketing campaigns like their “Made Possible by Hosts” campaign.\n"
      ],
      "metadata": {
        "id": "1sMH0LNsinhr"
      }
    },
    {
      "cell_type": "markdown",
      "source": [
        "# **Conclusion**"
      ],
      "metadata": {
        "id": "2WwCYOFQinhs"
      }
    },
    {
      "cell_type": "markdown",
      "source": [
        "# In this simple yet power full way we had done the EDA on Airbnb dataset. certainly this is not the end  rather this this the start we can say as per business requirement changes we need to find the insights in that direction and justify the business problems. There can be n-number of questions and n-number of dimension to explore the dataset and find the insight from them, this there is no limit unless the business constrain is solved."
      ],
      "metadata": {
        "id": "Bd-WAlzxinhs"
      }
    },
    {
      "cell_type": "markdown",
      "source": [
        "### ***Hurrah! You have successfully completed your EDA Capstone Project !!!***"
      ],
      "metadata": {
        "id": "omX3vjb8inhs"
      }
    }
  ]
}